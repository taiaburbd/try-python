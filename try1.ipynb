{
 "cells": [
  {
   "cell_type": "code",
   "execution_count": null,
   "metadata": {},
   "outputs": [
    {
     "ename": "",
     "evalue": "",
     "output_type": "error",
     "traceback": [
      "\u001b[1;31mFailed to start the Kernel. \n",
      "\u001b[1;31mTraceback (most recent call last):\n",
      "\u001b[1;31m  File \"/Users/taiaburrahman/.vscode/extensions/ms-toolsai.jupyter-2022.11.1003412109/pythonFiles/vscode_datascience_helpers/daemon/daemon_python.py\", line 54, in _decorator\n",
      "\u001b[1;31m    return func(self, *args, **kwargs)\n",
      "\u001b[1;31m  File \"/Users/taiaburrahman/.vscode/extensions/ms-toolsai.jupyter-2022.11.1003412109/pythonFiles/vscode_datascience_helpers/jupyter_daemon.py\", line 111, in m_exec_module_observable\n",
      "\u001b[1;31m    self._start_notebook(args, cwd, env)\n",
      "\u001b[1;31m  File \"/Users/taiaburrahman/.vscode/extensions/ms-toolsai.jupyter-2022.11.1003412109/pythonFiles/vscode_datascience_helpers/jupyter_daemon.py\", line 168, in _start_notebook\n",
      "\u001b[1;31m    app.launch_new_instance()\n",
      "\u001b[1;31m  File \"/Library/Frameworks/Python.framework/Versions/3.10/lib/python3.10/site-packages/jupyter_core/application.py\", line 276, in launch_instance\n",
      "\u001b[1;31m    return super().launch_instance(argv=argv, **kwargs)\n",
      "\u001b[1;31m  File \"/Library/Frameworks/Python.framework/Versions/3.10/lib/python3.10/site-packages/traitlets/config/application.py\", line 984, in launch_instance\n",
      "\u001b[1;31m    app.initialize(argv)\n",
      "\u001b[1;31m  File \"/Library/Frameworks/Python.framework/Versions/3.10/lib/python3.10/site-packages/traitlets/config/application.py\", line 113, in inner\n",
      "\u001b[1;31m    return method(app, *args, **kwargs)\n",
      "\u001b[1;31m  File \"/Library/Frameworks/Python.framework/Versions/3.10/lib/python3.10/site-packages/notebook/notebookapp.py\", line 2150, in initialize\n",
      "\u001b[1;31m    self.init_webapp()\n",
      "\u001b[1;31m  File \"/Library/Frameworks/Python.framework/Versions/3.10/lib/python3.10/site-packages/notebook/notebookapp.py\", line 1758, in init_webapp\n",
      "\u001b[1;31m    self.web_app = NotebookWebApplication(\n",
      "\u001b[1;31m  File \"/Library/Frameworks/Python.framework/Versions/3.10/lib/python3.10/site-packages/notebook/notebookapp.py\", line 178, in __init__\n",
      "\u001b[1;31m    settings = self.init_settings(\n",
      "\u001b[1;31m  File \"/Library/Frameworks/Python.framework/Versions/3.10/lib/python3.10/site-packages/notebook/notebookapp.py\", line 208, in init_settings\n",
      "\u001b[1;31m    sys_info = get_sys_info()\n",
      "\u001b[1;31m  File \"/Library/Frameworks/Python.framework/Versions/3.10/lib/python3.10/site-packages/notebook/_sysinfo.py\", line 95, in get_sys_info\n",
      "\u001b[1;31m    return pkg_info(path)\n",
      "\u001b[1;31m  File \"/Library/Frameworks/Python.framework/Versions/3.10/lib/python3.10/site-packages/notebook/_sysinfo.py\", line 86, in pkg_info\n",
      "\u001b[1;31m    platform=platform.platform(),\n",
      "\u001b[1;31m  File \"/Library/Frameworks/Python.framework/Versions/3.10/lib/python3.10/platform.py\", line 1199, in platform\n",
      "\u001b[1;31m    system, node, release, version, machine, processor = uname()\n",
      "\u001b[1;31m  File \"/Library/Frameworks/Python.framework/Versions/3.10/lib/python3.10/platform.py\", line 786, in __iter__\n",
      "\u001b[1;31m    (self.processor,)\n",
      "\u001b[1;31m  File \"/Library/Frameworks/Python.framework/Versions/3.10/lib/python3.10/functools.py\", line 981, in __get__\n",
      "\u001b[1;31m    val = self.func(instance)\n",
      "\u001b[1;31m  File \"/Library/Frameworks/Python.framework/Versions/3.10/lib/python3.10/platform.py\", line 781, in processor\n",
      "\u001b[1;31m    return _unknown_as_blank(_Processor.get())\n",
      "\u001b[1;31m  File \"/Library/Frameworks/Python.framework/Versions/3.10/lib/python3.10/platform.py\", line 733, in get\n",
      "\u001b[1;31m    return func() or ''\n",
      "\u001b[1;31m  File \"/Library/Frameworks/Python.framework/Versions/3.10/lib/python3.10/platform.py\", line 752, in from_subprocess\n",
      "\u001b[1;31m    return subprocess.check_output(\n",
      "\u001b[1;31m  File \"/Library/Frameworks/Python.framework/Versions/3.10/lib/python3.10/subprocess.py\", line 420, in check_output\n",
      "\u001b[1;31m    return run(*popenargs, stdout=PIPE, timeout=timeout, check=True,\n",
      "\u001b[1;31m  File \"/Library/Frameworks/Python.framework/Versions/3.10/lib/python3.10/site-packages/run/__init__.py\", line 145, in __new__\n",
      "\u001b[1;31m    process = cls.create_process(command, stdin, cwd=cwd, env=env, shell=shell)\n",
      "\u001b[1;31m  File \"/Library/Frameworks/Python.framework/Versions/3.10/lib/python3.10/site-packages/run/__init__.py\", line 121, in create_process\n",
      "\u001b[1;31m    shlex.split(command),\n",
      "\u001b[1;31m  File \"/Library/Frameworks/Python.framework/Versions/3.10/lib/python3.10/shlex.py\", line 315, in split\n",
      "\u001b[1;31m    return list(lex)\n",
      "\u001b[1;31m  File \"/Library/Frameworks/Python.framework/Versions/3.10/lib/python3.10/shlex.py\", line 300, in __next__\n",
      "\u001b[1;31m    token = self.get_token()\n",
      "\u001b[1;31m  File \"/Library/Frameworks/Python.framework/Versions/3.10/lib/python3.10/shlex.py\", line 109, in get_token\n",
      "\u001b[1;31m    raw = self.read_token()\n",
      "\u001b[1;31m  File \"/Library/Frameworks/Python.framework/Versions/3.10/lib/python3.10/shlex.py\", line 140, in read_token\n",
      "\u001b[1;31m    nextchar = self.instream.read(1)\n",
      "\u001b[1;31mAttributeError: 'list' object has no attribute 'read'\n",
      "\u001b[1;31m\n",
      "\u001b[1;31mFailed to run jupyter as observable with args notebook --no-browser --notebook-dir=\"/Users/taiaburrahman/Desktop/git/try-python\" --config=/var/folders/zp/kn2c7zks0q55p6_3s3c4b97h0000gn/T/9607a265-f4d5-4e69-b5c9-b0c218f63ba7/jupyter_notebook_config.py --NotebookApp.iopub_data_rate_limit=10000000000.0. \n",
      "\u001b[1;31mView Jupyter <a href='command:jupyter.viewOutput'>log</a> for further details."
     ]
    }
   ],
   "source": [
    "from skimage import io, img_as_ubyte\n",
    "from scipy import ndimage\n",
    "import numpy as np\n",
    "from matplotlib import pyplot as plt\n",
    "\n",
    "img = img_as_ubyte(io.imread('images/monkey.jpg', as_gray=True))\n",
    "\n",
    "flippedLR=np.fliplr(img)\n",
    "flippedUD=np.flipud(img)\n",
    "\n",
    "plt.subplot(2,1,1)\n",
    "plt.imshow(img,cmap=\"Greys\")\n",
    "plt.subplot(2,2,3)\n",
    "plt.imshow(flippedLR,cmap=\"Blues\")\n",
    "plt.subplot(2,2,4)\n",
    "plt.imshow(flippedUD,cmap='hsv')"
   ]
  }
 ],
 "metadata": {
  "kernelspec": {
   "display_name": "Python 3",
   "language": "python",
   "name": "python3"
  },
  "language_info": {
   "codemirror_mode": {
    "name": "ipython",
    "version": 3
   },
   "file_extension": ".py",
   "mimetype": "text/x-python",
   "name": "python",
   "nbconvert_exporter": "python",
   "pygments_lexer": "ipython3",
   "version": "3.11.1 (v3.11.1:a7a450f84a, Dec  6 2022, 15:24:06) [Clang 13.0.0 (clang-1300.0.29.30)]"
  },
  "orig_nbformat": 4,
  "vscode": {
   "interpreter": {
    "hash": "aee8b7b246df8f9039afb4144a1f6fd8d2ca17a180786b69acc140d282b71a49"
   }
  }
 },
 "nbformat": 4,
 "nbformat_minor": 2
}
