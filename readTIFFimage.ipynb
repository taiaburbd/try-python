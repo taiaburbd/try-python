{
 "cells": [
  {
   "cell_type": "code",
   "execution_count": 17,
   "id": "92d8bc96",
   "metadata": {},
   "outputs": [
    {
     "name": "stdout",
     "output_type": "stream",
     "text": [
      "(1, 1104, 1, 1, 1376, 3)\n"
     ]
    }
   ],
   "source": [
    "#pip install apeer-ometiff-library\n",
    "\n",
    "from apeer_ometiff_library import io\n",
    "import matplotlib.pyplot as plt\n",
    "\n",
    "(pic2, omexml) = io.read_ometiff(\"images/Osteosarcoma_01.tif\")\n",
    "print(pic2.shape)"
   ]
  },
  {
   "cell_type": "code",
   "execution_count": null,
   "id": "356a2aaf",
   "metadata": {},
   "outputs": [],
   "source": []
  }
 ],
 "metadata": {
  "kernelspec": {
   "display_name": "Python 3 (ipykernel)",
   "language": "python",
   "name": "python3"
  },
  "language_info": {
   "codemirror_mode": {
    "name": "ipython",
    "version": 3
   },
   "file_extension": ".py",
   "mimetype": "text/x-python",
   "name": "python",
   "nbconvert_exporter": "python",
   "pygments_lexer": "ipython3",
   "version": "3.9.13"
  }
 },
 "nbformat": 4,
 "nbformat_minor": 5
}
