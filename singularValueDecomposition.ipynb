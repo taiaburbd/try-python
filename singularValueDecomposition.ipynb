{
 "cells": [
  {
   "cell_type": "markdown",
   "metadata": {},
   "source": [
    "Singular-value decomposition"
   ]
  },
  {
   "cell_type": "code",
   "execution_count": 8,
   "metadata": {},
   "outputs": [
    {
     "name": "stdout",
     "output_type": "stream",
     "text": [
      "[[1 2]\n",
      " [3 4]\n",
      " [5 6]]\n",
      "[[-0.2298477   0.88346102  0.40824829]\n",
      " [-0.52474482  0.24078249 -0.81649658]\n",
      " [-0.81964194 -0.40189603  0.40824829]]\n",
      "[9.52551809 0.51430058]\n",
      "[[-0.61962948 -0.78489445]\n",
      " [-0.78489445  0.61962948]]\n"
     ]
    }
   ],
   "source": [
    "#defines a 3×2 matrix and calculates the Singular-value decomposition.\n",
    "\n",
    "import numpy as np\n",
    "from scipy.linalg import svd \n",
    "\n",
    "A=np.array([[1,2],[3,4],[5,6]])\n",
    "print(A)\n",
    "\n",
    "#svd\n",
    "U,s,VT=svd(A)\n",
    "print(U)\n",
    "print(s)\n",
    "print(VT)\n"
   ]
  }
 ],
 "metadata": {
  "kernelspec": {
   "display_name": "Python 3.9.13 ('base')",
   "language": "python",
   "name": "python3"
  },
  "language_info": {
   "codemirror_mode": {
    "name": "ipython",
    "version": 3
   },
   "file_extension": ".py",
   "mimetype": "text/x-python",
   "name": "python",
   "nbconvert_exporter": "python",
   "pygments_lexer": "ipython3",
   "version": "3.9.13"
  },
  "orig_nbformat": 4,
  "vscode": {
   "interpreter": {
    "hash": "f9cada240b5587ef39e5454e06002f23e8c35992d3bfa1c7bb44ef7b52b5127a"
   }
  }
 },
 "nbformat": 4,
 "nbformat_minor": 2
}
